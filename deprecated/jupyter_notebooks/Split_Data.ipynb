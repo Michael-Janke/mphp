{
 "cells": [
  {
   "cell_type": "code",
   "execution_count": 6,
   "metadata": {
    "collapsed": true
   },
   "outputs": [],
   "source": [
    "DATA_PATH = \"C:/Users/Micha/mphp/dataset1/data.csv\"\n",
    "SUBSET_PATH = \"C:/Users/Micha/mphp/dataset1/subsets/\""
   ]
  },
  {
   "cell_type": "markdown",
   "metadata": {},
   "source": [
    "will load the data file and transpose it and save into files per cancer type\n",
    "please set PATH constants"
   ]
  },
  {
   "cell_type": "code",
   "execution_count": 8,
   "metadata": {
    "collapsed": true
   },
   "outputs": [],
   "source": [
    "import numpy\n",
    "data_file = open(DATA_PATH, \"rb\")\n",
    "data = numpy.genfromtxt(data_file, delimiter=\"\\t\", skip_header=2, dtype=numpy.float32)\n",
    "data = numpy.transpose(data)[1:,:] #first row is null because conversion to float of cancer type failed\n",
    "\n",
    "data_file.seek(0)\n",
    "cancer_labels = numpy.genfromtxt(data_file, delimiter=\"\\t\", max_rows=1, dtype=numpy.unicode)[1:]"
   ]
  },
  {
   "cell_type": "code",
   "execution_count": 9,
   "metadata": {
    "collapsed": true
   },
   "outputs": [],
   "source": [
    "data_file.seek(0)\n",
    "first_col = numpy.loadtxt(data_file,skiprows=2,usecols=0,dtype=numpy.unicode)\n",
    "gen_labels, meta_labels = zip(*[gen.split('|') for gen in first_col])\n",
    "\n",
    "data_file.close()"
   ]
  },
  {
   "cell_type": "markdown",
   "metadata": {},
   "source": [
    "## subsets"
   ]
  },
  {
   "cell_type": "code",
   "execution_count": 10,
   "metadata": {
    "collapsed": true
   },
   "outputs": [],
   "source": [
    "cancer_data = {}\n",
    "for cancer_label in set(cancer_labels):\n",
    "    cancer_data[cancer_label] = data[numpy.where(cancer_labels == cancer_label)[0][1:]]"
   ]
  },
  {
   "cell_type": "code",
   "execution_count": 12,
   "metadata": {
    "collapsed": true
   },
   "outputs": [],
   "source": [
    "import os\n",
    "if not os.path.exists(SUBSET_PATH):\n",
    "    os.makedirs(SUBSET_PATH)\n",
    "\n",
    "for cancer_label, subset in cancer_data.items():\n",
    "    file = open(SUBSET_PATH + cancer_label + '.npz','wb')\n",
    "    numpy.save(file, subset)\n",
    "    file.close()"
   ]
  }
 ],
 "metadata": {
  "kernelspec": {
   "display_name": "Python 3",
   "language": "python",
   "name": "python3"
  },
  "language_info": {
   "codemirror_mode": {
    "name": "ipython",
    "version": 3
   },
   "file_extension": ".py",
   "mimetype": "text/x-python",
   "name": "python",
   "nbconvert_exporter": "python",
   "pygments_lexer": "ipython3",
   "version": "3.6.3"
  }
 },
 "nbformat": 4,
 "nbformat_minor": 2
}
