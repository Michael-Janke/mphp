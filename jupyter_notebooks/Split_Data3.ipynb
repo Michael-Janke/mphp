{
 "cells": [
  {
   "cell_type": "code",
   "execution_count": 19,
   "metadata": {
    "collapsed": true
   },
   "outputs": [],
   "source": [
    "PATH = \"../data/dataset3/\"\n",
    "DATA_PATH = PATH + \"TCGA-GBM_TCGA-THCA_TCGA-LAML_TCGA-HNSC_TCGA-LUAD_TCGA-UCEC_TCGA-KIRC_TCGA-SARC__GeneExpressionQuantification_HTSeq-Counts.csv\"\n",
    "SUBSET_PATH = PATH + \"subsets/\"\n",
    "\n",
    "import numpy\n",
    "data_file = open(DATA_PATH, \"rb\")"
   ]
  },
  {
   "cell_type": "markdown",
   "metadata": {},
   "source": [
    "will load the data file and save into files per cancer type\n",
    "please set PATH constants"
   ]
  },
  {
   "cell_type": "code",
   "execution_count": 3,
   "metadata": {},
   "outputs": [
    {
     "data": {
      "text/plain": [
       "array(['\"ENSG00000000003\"', '\"ENSG00000000005\"', '\"ENSG00000000419\"', ...,\n",
       "       '\"ENSG00000281910\"', '\"ENSG00000281912\"', '\"ENSG00000281920\"'],\n",
       "      dtype='<U17')"
      ]
     },
     "execution_count": 3,
     "metadata": {},
     "output_type": "execute_result"
    }
   ],
   "source": [
    "data_file.seek(0)\n",
    "gen_labels = numpy.genfromtxt(data_file, delimiter=\",\", max_rows=1, dtype=numpy.unicode)[1:]\n",
    "gen_labels"
   ]
  },
  {
   "cell_type": "code",
   "execution_count": 4,
   "metadata": {},
   "outputs": [
    {
     "data": {
      "text/plain": [
       "3497"
      ]
     },
     "execution_count": 4,
     "metadata": {},
     "output_type": "execute_result"
    }
   ],
   "source": [
    "feature_count = gen_labels.shape[0]\n",
    "feature_count\n",
    "data_file.seek(0)\n",
    "row_count = sum(1 for line in data_file)\n",
    "row_count"
   ]
  },
  {
   "cell_type": "code",
   "execution_count": 11,
   "metadata": {},
   "outputs": [
    {
     "name": "stdout",
     "output_type": "stream",
     "text": [
      "17 (0%) rows parsed\n",
      "192 (5%) rows parsed\n",
      "367 (10%) rows parsed\n",
      "542 (15%) rows parsed\n",
      "716 (20%) rows parsed\n",
      "891 (25%) rows parsed\n",
      "1066 (30%) rows parsed\n",
      "1241 (35%) rows parsed\n",
      "1416 (40%) rows parsed\n",
      "1591 (45%) rows parsed\n",
      "1765 (50%) rows parsed\n",
      "1940 (55%) rows parsed\n",
      "2115 (60%) rows parsed\n",
      "2290 (65%) rows parsed\n",
      "2465 (70%) rows parsed\n",
      "2640 (75%) rows parsed\n",
      "2815 (80%) rows parsed\n",
      "2989 (85%) rows parsed\n",
      "3164 (90%) rows parsed\n",
      "3339 (95%) rows parsed\n"
     ]
    }
   ],
   "source": [
    "meta_file = open(DATA_PATH.replace(\".csv\",\"_metadata.csv\"), \"rb\")\n",
    "meta_data = numpy.genfromtxt(meta_file, delimiter=\",\", dtype=numpy.unicode)[:,1:]\n",
    "\n",
    "data_file.seek(0)\n",
    "data = numpy.empty((row_count-1, feature_count), dtype = numpy.float32)\n",
    "cancer_labels = numpy.transpose([row.replace('\"', '') for row in meta_data[1]]) #meta data has same order, so we just set the meta_data column 2 as label\n",
    "for irow, line in enumerate(data_file):\n",
    "    if irow == 0:\n",
    "        continue\n",
    "    row = line.split(b\",\")\n",
    "    if meta_data[0,irow-1] != row[0].decode().replace('\\n', ''):\n",
    "        raise ValueError(\"bad Metadata\")\n",
    "    data[irow-1, :] = row[1:]\n",
    "    # show progress\n",
    "    if round(irow/float(row_count)*100) % 5 == 0 and round((irow+1)/float(row_count)*100) % 5 != 0:\n",
    "        print(str(irow) + \" (\" + str(round(irow/float(row_count)*100)) + \"%) rows parsed\")\n"
   ]
  },
  {
   "cell_type": "code",
   "execution_count": 105,
   "metadata": {
    "collapsed": true
   },
   "outputs": [],
   "source": []
  },
  {
   "cell_type": "code",
   "execution_count": 12,
   "metadata": {},
   "outputs": [],
   "source": [
    "data_file.close()\n",
    "meta_file.close()"
   ]
  },
  {
   "cell_type": "markdown",
   "metadata": {},
   "source": [
    "## subsets"
   ]
  },
  {
   "cell_type": "code",
   "execution_count": 13,
   "metadata": {},
   "outputs": [
    {
     "data": {
      "text/plain": [
       "array([[  8.846632  ,   2.45225167,   9.77157307, ...,   2.45225167,\n",
       "          7.56932259,   3.53934097],\n",
       "       [ 10.24181175,   4.35493517,   9.929636  , ...,   2.45225167,\n",
       "          6.65094805,   4.95146418],\n",
       "       [  9.10805225,   4.18585443,  10.07141209, ...,   2.45225167,\n",
       "          6.10550022,   4.34707355],\n",
       "       ..., \n",
       "       [ 11.15729141,   6.38510513,  10.36147881, ...,   2.45225167,\n",
       "          5.91513205,   3.45848203],\n",
       "       [ 11.74471283,   3.38458467,  10.46324921, ...,   2.9967134 ,\n",
       "          7.04641676,   3.21780109],\n",
       "       [ 11.72798729,   3.43383503,  10.0963192 , ...,   2.45225167,\n",
       "          6.30406713,   3.43383503]], dtype=float32)"
      ]
     },
     "execution_count": 13,
     "metadata": {},
     "output_type": "execute_result"
    }
   ],
   "source": [
    "cancer_data = {}\n",
    "for cancer_label in set(cancer_labels):\n",
    "    cancer_data[cancer_label] = data[numpy.where(cancer_labels == cancer_label)[0][1:]]\n",
    "cancer_data.pop('NA', None)"
   ]
  },
  {
   "cell_type": "code",
   "execution_count": 17,
   "metadata": {
    "collapsed": true
   },
   "outputs": [],
   "source": [
    "import os\n",
    "if not os.path.exists(SUBSET_PATH):\n",
    "    os.makedirs(SUBSET_PATH)\n",
    "\n",
    "numpy.save(SUBSET_PATH + \"gen_labels\", gen_labels)\n",
    "\n",
    "for cancer_label, subset in cancer_data.items():\n",
    "    numpy.save(SUBSET_PATH + cancer_label, subset)\n"
   ]
  }
 ],
 "metadata": {
  "kernelspec": {
   "display_name": "Python 3",
   "language": "python",
   "name": "python3"
  },
  "language_info": {
   "codemirror_mode": {
    "name": "ipython",
    "version": 3
   },
   "file_extension": ".py",
   "mimetype": "text/x-python",
   "name": "python",
   "nbconvert_exporter": "python",
   "pygments_lexer": "ipython3",
   "version": "3.6.3"
  }
 },
 "nbformat": 4,
 "nbformat_minor": 2
}
