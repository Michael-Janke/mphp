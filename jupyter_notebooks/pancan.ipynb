{
 "cells": [
  {
   "cell_type": "code",
   "execution_count": 6,
   "metadata": {
    "collapsed": true
   },
   "outputs": [],
   "source": [
    "import pickle\n",
    "import numpy as np\n",
    "import math"
   ]
  },
  {
   "cell_type": "code",
   "execution_count": 12,
   "metadata": {
    "collapsed": true
   },
   "outputs": [],
   "source": [
    "labels, tcga, genes, expressions = pickle.load(open(\"data/gene_expression\",\"rb\"))"
   ]
  },
  {
   "cell_type": "code",
   "execution_count": 10,
   "metadata": {},
   "outputs": [
    {
     "data": {
      "text/plain": [
       "(array([[ 0.373126,  0.23    ,  1.63    , ..., -0.69    , -2.099773,  0.49    ],\n",
       "        [ 0.313126,       nan,  1.68    , ...,  0.54    , -1.919773,  0.34    ],\n",
       "        [ 0.333126, -1.22    ,  1.36    , ..., -0.6     , -0.719773,  0.36    ],\n",
       "        ..., \n",
       "        [-0.18    ,  1.947416, -5.177105, ...,  1.661221, -0.890227,\n",
       "          0.741402],\n",
       "        [-1.68    , -0.832584, -3.267105, ..., -0.078779, -1.060227,\n",
       "          1.241402],\n",
       "        [-0.11    , -0.492584, -4.677105, ...,  0.491221,  0.209773,\n",
       "          0.491402]]),\n",
       " array(['HNSC', 'HNSC', 'HNSC', 'HNSC', 'HNSC', 'HNSC', 'HNSC', 'HNSC',\n",
       "        'HNSC', 'HNSC', 'HNSC', 'HNSC', 'HNSC', 'HNSC', 'HNSC', 'HNSC',\n",
       "        'HNSC', 'HNSC', 'HNSC', 'HNSC', 'HNSC', 'HNSC', 'HNSC', 'HNSC',\n",
       "        'HNSC', 'HNSC', 'HNSC', 'HNSC', 'HNSC', 'HNSC', 'HNSC', 'HNSC',\n",
       "        'HNSC', 'HNSC', 'HNSC', 'HNSC', 'HNSC', 'HNSC', 'HNSC', 'HNSC',\n",
       "        'HNSC', 'HNSC', 'HNSC', 'HNSC', 'HNSC', 'HNSC', 'HNSC', 'HNSC',\n",
       "        'HNSC', 'HNSC', 'HNSC', 'HNSC', 'HNSC', 'HNSC', 'HNSC', 'HNSC',\n",
       "        'HNSC', 'HNSC', 'HNSC', 'HNSC', 'HNSC', 'HNSC', 'HNSC', 'HNSC',\n",
       "        'HNSC', 'HNSC', 'HNSC', 'HNSC', 'HNSC', 'HNSC', 'HNSC', 'HNSC',\n",
       "        'HNSC', 'HNSC', 'HNSC', 'HNSC', 'HNSC', 'HNSC', 'HNSC', 'HNSC',\n",
       "        'HNSC', 'HNSC', 'HNSC', 'HNSC', 'HNSC', 'HNSC', 'HNSC', 'HNSC',\n",
       "        'HNSC', 'HNSC', 'HNSC', 'HNSC', 'HNSC', 'HNSC', 'HNSC', 'HNSC',\n",
       "        'HNSC', 'HNSC', 'HNSC', 'HNSC', 'HNSC', 'HNSC', 'HNSC', 'HNSC',\n",
       "        'HNSC', 'HNSC', 'HNSC', 'HNSC', 'HNSC', 'HNSC', 'HNSC', 'HNSC',\n",
       "        'HNSC', 'HNSC', 'HNSC', 'HNSC', 'HNSC', 'HNSC', 'HNSC', 'HNSC',\n",
       "        'HNSC', 'HNSC', 'HNSC', 'HNSC', 'HNSC', 'HNSC', 'HNSC', 'HNSC',\n",
       "        'HNSC', 'HNSC', 'HNSC', 'HNSC', 'HNSC', 'HNSC', 'HNSC', 'HNSC',\n",
       "        'HNSC', 'HNSC', 'HNSC', 'HNSC', 'HNSC', 'HNSC', 'HNSC', 'HNSC',\n",
       "        'HNSC', 'HNSC', 'HNSC', 'HNSC', 'HNSC', 'HNSC', 'HNSC', 'HNSC',\n",
       "        'HNSC', 'HNSC', 'HNSC', 'HNSC', 'HNSC', 'HNSC', 'HNSC', 'HNSC',\n",
       "        'HNSC', 'HNSC', 'HNSC', 'HNSC', 'HNSC', 'HNSC', 'HNSC', 'HNSC',\n",
       "        'HNSC', 'HNSC', 'HNSC', 'HNSC', 'HNSC', 'HNSC', 'HNSC', 'HNSC',\n",
       "        'HNSC', 'HNSC', 'HNSC', 'HNSC', 'HNSC', 'HNSC', 'HNSC', 'HNSC',\n",
       "        'HNSC', 'HNSC', 'HNSC', 'HNSC', 'HNSC', 'HNSC', 'HNSC', 'HNSC',\n",
       "        'HNSC', 'HNSC', 'HNSC', 'HNSC', 'HNSC', 'HNSC', 'HNSC', 'HNSC',\n",
       "        'HNSC', 'HNSC', 'HNSC', 'HNSC', 'HNSC', 'HNSC', 'HNSC', 'HNSC',\n",
       "        'HNSC', 'HNSC', 'HNSC', 'HNSC', 'HNSC', 'HNSC', 'HNSC', 'HNSC',\n",
       "        'HNSC', 'HNSC', 'HNSC', 'HNSC', 'HNSC', 'HNSC', 'HNSC', 'HNSC',\n",
       "        'HNSC', 'HNSC', 'HNSC', 'HNSC', 'HNSC', 'HNSC', 'HNSC', 'HNSC',\n",
       "        'HNSC', 'HNSC', 'HNSC', 'HNSC', 'HNSC', 'HNSC', 'HNSC', 'HNSC',\n",
       "        'HNSC', 'HNSC', 'HNSC', 'HNSC', 'HNSC', 'HNSC', 'HNSC', 'HNSC',\n",
       "        'HNSC', 'HNSC', 'HNSC', 'HNSC', 'HNSC', 'HNSC', 'HNSC', 'HNSC',\n",
       "        'HNSC', 'HNSC', 'HNSC', 'HNSC', 'HNSC', 'HNSC', 'HNSC', 'HNSC',\n",
       "        'HNSC', 'HNSC', 'HNSC', 'HNSC', 'HNSC', 'HNSC', 'HNSC', 'HNSC',\n",
       "        'HNSC', 'HNSC', 'HNSC', 'HNSC', 'HNSC', 'HNSC', 'HNSC', 'HNSC',\n",
       "        'HNSC', 'HNSC', 'HNSC', 'HNSC', 'HNSC', 'HNSC', 'HNSC', 'HNSC',\n",
       "        'HNSC', 'HNSC', 'HNSC', 'HNSC', 'HNSC', 'HNSC', 'HNSC', 'HNSC',\n",
       "        'HNSC', 'HNSC', 'HNSC', 'HNSC', 'HNSC', 'HNSC', 'HNSC', 'OV', 'OV',\n",
       "        'OV', 'OV', 'OV', 'OV', 'OV', 'OV', 'OV', 'OV', 'OV', 'OV', 'OV',\n",
       "        'OV', 'OV', 'OV', 'OV', 'OV', 'OV', 'OV', 'OV', 'OV', 'OV', 'OV',\n",
       "        'OV', 'OV', 'OV', 'OV', 'OV', 'OV', 'OV', 'OV', 'OV', 'OV', 'OV',\n",
       "        'OV', 'OV', 'OV', 'OV', 'OV', 'OV', 'OV', 'OV', 'OV', 'OV', 'OV',\n",
       "        'OV', 'OV', 'OV', 'OV', 'OV', 'OV', 'OV', 'OV', 'OV', 'OV', 'OV',\n",
       "        'OV', 'OV', 'OV', 'OV', 'OV', 'OV', 'OV', 'OV', 'OV', 'OV', 'OV',\n",
       "        'OV', 'OV', 'OV', 'OV', 'OV', 'OV', 'OV', 'OV', 'OV', 'OV', 'OV',\n",
       "        'OV', 'OV', 'OV', 'OV', 'OV', 'OV', 'OV', 'OV', 'OV', 'OV', 'OV',\n",
       "        'OV', 'OV', 'OV', 'OV', 'OV', 'OV', 'OV', 'OV', 'OV', 'OV', 'OV',\n",
       "        'OV', 'OV', 'OV', 'OV', 'OV', 'OV', 'OV', 'OV', 'OV', 'OV', 'OV',\n",
       "        'OV', 'OV', 'OV', 'OV', 'OV', 'OV', 'OV', 'OV', 'OV', 'OV', 'OV',\n",
       "        'OV', 'OV', 'OV', 'OV', 'OV', 'OV', 'OV', 'OV', 'OV', 'OV', 'OV',\n",
       "        'OV', 'OV', 'OV', 'OV', 'OV', 'OV', 'OV', 'OV', 'OV', 'OV', 'OV',\n",
       "        'OV', 'OV', 'OV', 'OV', 'OV', 'OV', 'OV', 'OV', 'OV', 'OV', 'OV',\n",
       "        'OV', 'OV', 'OV', 'OV', 'OV', 'OV', 'OV', 'OV', 'OV', 'OV', 'OV',\n",
       "        'OV', 'OV', 'OV', 'OV', 'OV', 'OV', 'OV', 'OV', 'OV', 'OV', 'OV',\n",
       "        'OV', 'OV', 'OV', 'OV', 'OV', 'OV', 'OV', 'OV', 'OV', 'OV', 'OV',\n",
       "        'OV', 'OV', 'OV', 'OV', 'OV', 'OV', 'OV', 'OV', 'OV', 'OV', 'OV',\n",
       "        'OV', 'OV', 'OV', 'OV', 'OV', 'OV', 'OV', 'OV', 'OV', 'OV', 'OV',\n",
       "        'OV', 'OV', 'OV', 'OV', 'OV', 'OV', 'OV', 'OV', 'OV', 'OV', 'OV',\n",
       "        'OV', 'OV', 'OV', 'OV', 'OV', 'OV', 'OV', 'OV', 'OV', 'OV', 'OV',\n",
       "        'OV', 'OV', 'OV', 'OV', 'OV', 'OV', 'OV', 'OV', 'OV', 'OV', 'OV',\n",
       "        'OV', 'OV', 'OV', 'OV', 'OV', 'OV', 'OV', 'OV', 'OV', 'OV', 'OV',\n",
       "        'OV', 'OV', 'OV', 'OV', 'OV', 'OV', 'OV', 'OV', 'OV', 'OV'],\n",
       "       dtype='<U4'))"
      ]
     },
     "execution_count": 10,
     "metadata": {},
     "output_type": "execute_result"
    }
   ],
   "source": [
    "pickle.load(open(\"../data/ov_hnsc\",\"rb\"))"
   ]
  },
  {
   "cell_type": "code",
   "execution_count": 11,
   "metadata": {
    "collapsed": true
   },
   "outputs": [],
   "source": [
    "blac_coad = expressions[np.logical_or(labels==\"BLCA\", labels==\"COAD\")]\n",
    "blac_coad_labels = labels[np.logical_or(labels==\"BLCA\", labels==\"COAD\")]\n",
    "\n",
    "ov_hnsc = expressions[np.logical_or(labels==\"OV\", labels==\"HNSC\")]\n",
    "ov_hnsc_labels = labels[np.logical_or(labels==\"OV\", labels==\"HNSC\")]\n",
    "\n",
    "pickle.dump((blac_coad, blac_coad_labels),open(\"data/blac_coad\",\"wb\"))\n",
    "pickle.dump((ov_hnsc, ov_hnsc_labels),open(\"data/ov_hnsc\",\"wb\"))"
   ]
  },
  {
   "cell_type": "code",
   "execution_count": 30,
   "metadata": {},
   "outputs": [
    {
     "data": {
      "text/plain": [
       "3602"
      ]
     },
     "execution_count": 30,
     "metadata": {},
     "output_type": "execute_result"
    }
   ],
   "source": [
    "combinations = {''.join(['0' if math.isnan(x) else '1' for x in row]) for row in expressions}\n",
    "len(combinations)"
   ]
  },
  {
   "cell_type": "code",
   "execution_count": null,
   "metadata": {
    "collapsed": true
   },
   "outputs": [],
   "source": [
    "expressions = np.concatenate((expressions, expressions[0:,]))"
   ]
  },
  {
   "cell_type": "code",
   "execution_count": 31,
   "metadata": {},
   "outputs": [
    {
     "data": {
      "text/plain": [
       "7204"
      ]
     },
     "execution_count": 31,
     "metadata": {},
     "output_type": "execute_result"
    }
   ],
   "source": [
    "len(expressions)"
   ]
  }
 ],
 "metadata": {
  "kernelspec": {
   "display_name": "Python 3",
   "language": "python",
   "name": "python3"
  },
  "language_info": {
   "codemirror_mode": {
    "name": "ipython",
    "version": 3
   },
   "file_extension": ".py",
   "mimetype": "text/x-python",
   "name": "python",
   "nbconvert_exporter": "python",
   "pygments_lexer": "ipython3",
   "version": "3.6.2"
  }
 },
 "nbformat": 4,
 "nbformat_minor": 2
}
