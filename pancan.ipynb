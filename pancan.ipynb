{
 "cells": [
  {
   "cell_type": "code",
   "execution_count": 13,
   "metadata": {
    "collapsed": false
   },
   "outputs": [],
   "source": [
    "import pickle\n",
    "import numpy as np\n",
    "import math"
   ]
  },
  {
   "cell_type": "code",
   "execution_count": 12,
   "metadata": {
    "collapsed": true
   },
   "outputs": [],
   "source": [
    "labels, tcga, genes, expressions = pickle.load(open(\"data/gene_expression\",\"rb\"))"
   ]
  },
  {
   "cell_type": "code",
   "execution_count": 11,
   "metadata": {
    "collapsed": false
   },
   "outputs": [],
   "source": [
    "blac_coad = expressions[np.logical_or(labels==\"BLCA\", labels==\"COAD\")]\n",
    "blac_coad_labels = labels[np.logical_or(labels==\"BLCA\", labels==\"COAD\")]\n",
    "\n",
    "ov_hnsc = expressions[np.logical_or(labels==\"OV\", labels==\"HNSC\")]\n",
    "ov_hnsc_labels = labels[np.logical_or(labels==\"OV\", labels==\"HNSC\")]\n",
    "\n",
    "pickle.dump((blac_coad, blac_coad_labels),open(\"data/blac_coad\",\"wb\"))\n",
    "pickle.dump((ov_hnsc, ov_hnsc_labels),open(\"data/ov_hnsc\",\"wb\"))"
   ]
  },
  {
   "cell_type": "code",
   "execution_count": 30,
   "metadata": {
    "collapsed": false
   },
   "outputs": [
    {
     "data": {
      "text/plain": [
       "3602"
      ]
     },
     "execution_count": 30,
     "metadata": {},
     "output_type": "execute_result"
    }
   ],
   "source": [
    "combinations = {''.join(['0' if math.isnan(x) else '1' for x in row]) for row in expressions}\n",
    "len(combinations)"
   ]
  },
  {
   "cell_type": "code",
   "execution_count": null,
   "metadata": {
    "collapsed": true
   },
   "outputs": [],
   "source": [
    "expressions = np.concatenate((expressions, expressions[0:,]))"
   ]
  },
  {
   "cell_type": "code",
   "execution_count": 31,
   "metadata": {
    "collapsed": false
   },
   "outputs": [
    {
     "data": {
      "text/plain": [
       "7204"
      ]
     },
     "execution_count": 31,
     "metadata": {},
     "output_type": "execute_result"
    }
   ],
   "source": [
    "len(expressions)"
   ]
  }
 ],
 "metadata": {
  "kernelspec": {
   "display_name": "Python 3",
   "language": "python",
   "name": "python3"
  },
  "language_info": {
   "codemirror_mode": {
    "name": "ipython",
    "version": 3
   },
   "file_extension": ".py",
   "mimetype": "text/x-python",
   "name": "python",
   "nbconvert_exporter": "python",
   "pygments_lexer": "ipython3",
   "version": "3.6.0"
  }
 },
 "nbformat": 4,
 "nbformat_minor": 2
}
